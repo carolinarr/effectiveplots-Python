{
 "cells": [
  {
   "cell_type": "markdown",
   "metadata": {},
   "source": [
    "# How to Make Effective Plots (using Python)"
   ]
  },
  {
   "cell_type": "markdown",
   "metadata": {},
   "source": [
    "## Some Relevant Python Background"
   ]
  },
  {
   "cell_type": "markdown",
   "metadata": {},
   "source": [
    "'Rosetta Stone' Commands:  \n",
    "`help()` # get documentation  \n",
    "`dir()`  # see all methods of an object; by itself shows all variables in scope  \n",
    "`type()` # see data type of object  "
   ]
  },
  {
   "cell_type": "markdown",
   "metadata": {},
   "source": [
    "### Notes on Visualization Packages in Python\n",
    "\n",
    "NOTE: This workshop is not about teaching how to program in Python, but rather how to make a more effective plot in Python. That being said, we need to know a little about the underlying structure of some basic visualization packages in Python.\n",
    "\n",
    "#### Seaborn\n",
    "\n",
    "Seaborn is a Python data visualization package built on top of Python's matplotlib package.  \n",
    "\n",
    "It serves to simplify making plots with Python (i.e. using fewer lines of code), and to give the ability to make more presentable plots fast.\n",
    "\n",
    "#### Matplotlib\n",
    "\n",
    "To create a plot with Matplotlib, you need to create two objects:\n",
    "\n",
    "*Figures* - \"every plot that matplotlib makes is drawn on something called 'figure'. You can think of the figure object as a **canvas** that holds all the subplots and other plot elements inside it.\"  \n",
    "\n",
    "*Axes* - \"And a figure can have one or more subplots inside it called axes, arranged in rows and columns. Every figure has at least one axes. (Don’t confuse this axes with X and Y axis, they are different.)\"\n",
    "\n",
    "![Matplotlib plot labeled with main components of Figure, Axes, x axis, and y axis.](images/matplotlib_plot_components.png)\n",
    "\n",
    "Source: https://www.machinelearningplus.com/plots/matplotlib-tutorial-complete-guide-python-plot-examples/\n",
    "\n",
    "\n",
    "#### Customizing Plots in Matplotlib\n",
    "\n",
    "For more informatino on both rcParams and style sheets in matplotlib, see\n",
    "https://matplotlib.org/tutorials/introductory/customizing.html\n",
    "\n",
    "##### Style Sheets\n",
    "\n",
    "To see built in style sheets:  \n",
    "`plt.style.available`\n",
    "\n",
    "##### rcParam\n",
    "\n",
    "\"The look and feel of various components of a matplotlib plot can be set globally using rcParams. \n",
    "\n",
    "The complete list of rcParams can be viewed by typing:\"  \n",
    "`mpl.rcParams.find_all`\n",
    "or\n",
    "`mpl.rc_params()`\n",
    "\n",
    "Example of adjusting rcParams below. This snippet adjusts the font by setting it to ‘stix’.  \n",
    "`mpl.rcParams.update({'font.size':18, \n",
    "                     'font.family':'STIXGeneral', \n",
    "                     'mathtext.fontset':'stix'})`  \n",
    "or  \n",
    "`mpl.rcParams['lines.linewidth'] = 2`  \n",
    "\n",
    "To restore rcParams default setting:  \n",
    "`mpl.rcParams.update(mpl.rcParamsDefault)`"
   ]
  },
  {
   "cell_type": "markdown",
   "metadata": {},
   "source": [
    "## Some Helpful Links\n",
    "\n",
    "\n",
    "MATPLOTLIB  \n",
    "**https://matplotlib.org/contents.html**  \n",
    "Gallery - https://matplotlib.org/gallery/index.html  \n",
    "Tutorials - https://matplotlib.org/3.1.1/tutorials/index.html  \n",
    "Customizing matplotlib with style sheets and rcParams - \n",
    "https://matplotlib.org/tutorials/introductory/customizing.html  \n",
    "Style sheets reference - https://matplotlib.org/3.1.1/gallery/style_sheets/style_sheets_reference.html   \n",
    "\n",
    "SEABORN  \n",
    "**https://seaborn.pydata.org/introduction.html**  \n",
    "Gallery - https://seaborn.pydata.org/examples/index.html  \n",
    "User guide and tutorial – https://seaborn.pydata.org/tutorial.html  \n",
    "Changing theme -  https://seaborn.pydata.org/tutorial/aesthetics.html\n",
    "Cheatsheet by DataCamp - https://www.datacamp.com/community/blog/seaborn-cheat-sheet-python"
   ]
  },
  {
   "cell_type": "markdown",
   "metadata": {},
   "source": [
    "## Startup Notes for Working with Jupyter Notebooks"
   ]
  },
  {
   "cell_type": "markdown",
   "metadata": {},
   "source": [
    "To run a cell of code, you can either:\n",
    "* Press **Run** button in the shortcut menu above.\n",
    "* Press **SHIFT + ENTER** to run the code."
   ]
  },
  {
   "cell_type": "markdown",
   "metadata": {},
   "source": [
    "To comment/uncomment sections of code at a time:  \n",
    "* Highlight a code block and press **CMD + /**."
   ]
  },
  {
   "cell_type": "markdown",
   "metadata": {},
   "source": [
    "Let's try an example. Uncomment and then run the following block of code."
   ]
  },
  {
   "cell_type": "code",
   "execution_count": 1,
   "metadata": {},
   "outputs": [
    {
     "name": "stdout",
     "output_type": "stream",
     "text": [
      "3\n"
     ]
    }
   ],
   "source": [
    "# a = 1\n",
    "# b = 2\n",
    "# print(a + b)"
   ]
  },
  {
   "cell_type": "markdown",
   "metadata": {},
   "source": [
    "## Setup"
   ]
  },
  {
   "cell_type": "markdown",
   "metadata": {},
   "source": [
    "### Import packages"
   ]
  },
  {
   "cell_type": "code",
   "execution_count": 6,
   "metadata": {},
   "outputs": [],
   "source": [
    "# packages we'll be using to plot\n",
    "import pandas as pd                    # to work with data\n",
    "import matplotlib.pyplot as plt        # to plot and customize charts \n",
    "import seaborn as sns                  # for a more simple way to make charts prettier\n",
    "\n",
    "# packages we'll be using to look at rcParam\n",
    "import matplotlib as mpl\n",
    "\n",
    "# (for jupyter notebooks *only*) to display plots inline\n",
    "%matplotlib inline "
   ]
  },
  {
   "cell_type": "markdown",
   "metadata": {},
   "source": [
    "Note that `%matplotlib inline` is only useful when working in a jupyter notebook.  \n",
    "When working with python from the terminal or a script, you'll need to use  \n",
    "`plt.show()     # opens matplotlib's viewer and displays the plot`  \n",
    "at the end of your script to see your plots."
   ]
  },
  {
   "cell_type": "markdown",
   "metadata": {},
   "source": [
    "To close your plot..."
   ]
  },
  {
   "cell_type": "code",
   "execution_count": 2,
   "metadata": {},
   "outputs": [],
   "source": [
    "# plt.cla     # clean an axis\n",
    "# plt.clf()   # clear the entire figure\n",
    "# plt.close() # close a window that has popped up to show you your plot"
   ]
  },
  {
   "cell_type": "markdown",
   "metadata": {},
   "source": [
    "### Import data "
   ]
  },
  {
   "cell_type": "code",
   "execution_count": 17,
   "metadata": {},
   "outputs": [
    {
     "data": {
      "text/html": [
       "<div>\n",
       "<style scoped>\n",
       "    .dataframe tbody tr th:only-of-type {\n",
       "        vertical-align: middle;\n",
       "    }\n",
       "\n",
       "    .dataframe tbody tr th {\n",
       "        vertical-align: top;\n",
       "    }\n",
       "\n",
       "    .dataframe thead th {\n",
       "        text-align: right;\n",
       "    }\n",
       "</style>\n",
       "<table border=\"1\" class=\"dataframe\">\n",
       "  <thead>\n",
       "    <tr style=\"text-align: right;\">\n",
       "      <th></th>\n",
       "      <th>state</th>\n",
       "      <th>total_cases</th>\n",
       "      <th>case_rate_per_100000</th>\n",
       "      <th>cases_last_7days</th>\n",
       "      <th>deaths_total</th>\n",
       "      <th>deaths_last_7days</th>\n",
       "      <th>date_rate_per_100000</th>\n",
       "      <th>case_rate_per100000_in_last_7_days</th>\n",
       "      <th>death_rate_per100000_in_last_7_days</th>\n",
       "    </tr>\n",
       "  </thead>\n",
       "  <tbody>\n",
       "    <tr>\n",
       "      <th>0</th>\n",
       "      <td>Alabama</td>\n",
       "      <td>189149</td>\n",
       "      <td>3870</td>\n",
       "      <td>12085</td>\n",
       "      <td>2914</td>\n",
       "      <td>71</td>\n",
       "      <td>59</td>\n",
       "      <td>35.3</td>\n",
       "      <td>0.2</td>\n",
       "    </tr>\n",
       "    <tr>\n",
       "      <th>1</th>\n",
       "      <td>Alaska</td>\n",
       "      <td>14456</td>\n",
       "      <td>1960</td>\n",
       "      <td>2619</td>\n",
       "      <td>77</td>\n",
       "      <td>9</td>\n",
       "      <td>10</td>\n",
       "      <td>50.7</td>\n",
       "      <td>0.2</td>\n",
       "    </tr>\n",
       "    <tr>\n",
       "      <th>2</th>\n",
       "      <td>Arizona</td>\n",
       "      <td>242480</td>\n",
       "      <td>3381</td>\n",
       "      <td>7574</td>\n",
       "      <td>5918</td>\n",
       "      <td>59</td>\n",
       "      <td>82</td>\n",
       "      <td>15.1</td>\n",
       "      <td>0.1</td>\n",
       "    </tr>\n",
       "    <tr>\n",
       "      <th>3</th>\n",
       "      <td>Arkansas</td>\n",
       "      <td>109712</td>\n",
       "      <td>3640</td>\n",
       "      <td>6914</td>\n",
       "      <td>1894</td>\n",
       "      <td>122</td>\n",
       "      <td>62</td>\n",
       "      <td>32.8</td>\n",
       "      <td>0.6</td>\n",
       "    </tr>\n",
       "    <tr>\n",
       "      <th>4</th>\n",
       "      <td>California</td>\n",
       "      <td>912904</td>\n",
       "      <td>2308</td>\n",
       "      <td>32180</td>\n",
       "      <td>17541</td>\n",
       "      <td>352</td>\n",
       "      <td>44</td>\n",
       "      <td>11.6</td>\n",
       "      <td>0.1</td>\n",
       "    </tr>\n",
       "  </tbody>\n",
       "</table>\n",
       "</div>"
      ],
      "text/plain": [
       "        state  total_cases  case_rate_per_100000  cases_last_7days  \\\n",
       "0     Alabama       189149                  3870             12085   \n",
       "1      Alaska        14456                  1960              2619   \n",
       "2     Arizona       242480                  3381              7574   \n",
       "3    Arkansas       109712                  3640              6914   \n",
       "4  California       912904                  2308             32180   \n",
       "\n",
       "   deaths_total  deaths_last_7days  date_rate_per_100000  \\\n",
       "0          2914                 71                    59   \n",
       "1            77                  9                    10   \n",
       "2          5918                 59                    82   \n",
       "3          1894                122                    62   \n",
       "4         17541                352                    44   \n",
       "\n",
       "   case_rate_per100000_in_last_7_days  death_rate_per100000_in_last_7_days  \n",
       "0                                35.3                                  0.2  \n",
       "1                                50.7                                  0.2  \n",
       "2                                15.1                                  0.1  \n",
       "3                                32.8                                  0.6  \n",
       "4                                11.6                                  0.1  "
      ]
     },
     "execution_count": 17,
     "metadata": {},
     "output_type": "execute_result"
    }
   ],
   "source": [
    "d_covid = pd.read_csv('data/usa_population_covid_2020-10-30_clean.csv')\n",
    "\n",
    "d_covid.head() # display the first few observations"
   ]
  },
  {
   "cell_type": "markdown",
   "metadata": {},
   "source": [
    "Note d_covid's data type."
   ]
  },
  {
   "cell_type": "code",
   "execution_count": 7,
   "metadata": {},
   "outputs": [
    {
     "data": {
      "text/plain": [
       "pandas.core.frame.DataFrame"
      ]
     },
     "execution_count": 7,
     "metadata": {},
     "output_type": "execute_result"
    }
   ],
   "source": [
    "type(d_covid)"
   ]
  },
  {
   "cell_type": "markdown",
   "metadata": {},
   "source": [
    "## Create Default Python Plot\n",
    "\n",
    "Starting with a scatter plot."
   ]
  },
  {
   "cell_type": "code",
   "execution_count": 2,
   "metadata": {},
   "outputs": [
    {
     "data": {
      "image/png": "[encoded data removed]",
      "text/plain": [
       "<Figure size 432x288 with 1 Axes>"
      ]
     },
     "metadata": {
      "needs_background": "light"
     },
     "output_type": "display_data"
    }
   ],
   "source": [
    "import matplotlib.pyplot as plt\n",
    "\n",
    "x = [2, 4, 6, 8]\n",
    "y = [1, 5, 3, 6]\n",
    "\n",
    "plt.scatter(x,y)\n",
    "plt.show()"
   ]
  },
  {
   "cell_type": "markdown",
   "metadata": {},
   "source": [
    "Plotting a bar chart."
   ]
  },
  {
   "cell_type": "code",
   "execution_count": 7,
   "metadata": {},
   "outputs": [
    {
     "data": {
      "text/plain": [
       "<matplotlib.axes._subplots.AxesSubplot at 0x7fd79fca7d30>"
      ]
     },
     "execution_count": 7,
     "metadata": {},
     "output_type": "execute_result"
    },
    {
     "data": {
      "image/png": "[encoded data removed]",
      "text/plain": [
       "<Figure size 432x288 with 1 Axes>"
      ]
     },
     "metadata": {
      "needs_background": "light"
     },
     "output_type": "display_data"
    }
   ],
   "source": [
    "# # Plotting with matplotlib\n",
    "# ----------------------------\n",
    "# fig = plt.figure()\n",
    "# ax = plt.subplot(1,1,1)\n",
    "# ax.bar(x = d_covid['state'], \n",
    "#        height = d_covid['total_cases'])\n",
    "\n",
    "\n",
    "# # Plotting with seaborn\n",
    "# ----------------------------\n",
    "# sns.barplot(x = d_covid['state'], \n",
    "#             y = d_covid['total_cases'])\n",
    "\n",
    "\n",
    "# # Plotting with both matplotlib & seaborn\n",
    "# -----------------------------\n",
    "# # For the most control, a combination of both\n",
    "# fig = plt.figure()\n",
    "# ax = plt.subplot(1,1,1) # number of rows, number of columns, index\n",
    "\n",
    "# sns.barplot(x = d_covid['state'], \n",
    "#             y = d_covid['total_cases'])\n"
   ]
  },
  {
   "cell_type": "markdown",
   "metadata": {},
   "source": [
    "## Create More Effective Plot"
   ]
  },
  {
   "cell_type": "markdown",
   "metadata": {},
   "source": [
    "REMINDERS:  \n",
    "**CMD** + **/** --> uncomment a block of code  \n",
    "**'>| Run'** button *or* **SHIFT** + ***ENTER*** --> run code  "
   ]
  },
  {
   "cell_type": "code",
   "execution_count": 15,
   "metadata": {},
   "outputs": [
    {
     "data": {
      "text/plain": [
       "<matplotlib.axes._subplots.AxesSubplot at 0x7fb724cc01f0>"
      ]
     },
     "execution_count": 15,
     "metadata": {},
     "output_type": "execute_result"
    },
    {
     "data": {
      "image/png": "[encoded data removed]",
      "text/plain": [
       "<Figure size 432x288 with 1 Axes>"
      ]
     },
     "metadata": {
      "needs_background": "light"
     },
     "output_type": "display_data"
    }
   ],
   "source": [
    "# # Additional imports\n",
    "# # -------------------------\n",
    "# #to set specific major grid axis\n",
    "# from matplotlib.ticker import MultipleLocator\n",
    "\n",
    "# # Data\n",
    "# # -------------------------\n",
    "# # Change the order of the data\n",
    "# d_covid = d_covid.sort_values()                      \n",
    "\n",
    "# Setting Up \n",
    "# -------------------------\n",
    "fig = plt.figure()\n",
    "ax = plt.subplot(1,1,1)\n",
    "\n",
    "# fig.set_figheight()                                                                                            \n",
    "# fig.set_figwidth()                                                                 \n",
    "# fig.set_dpi()                                                                     \n",
    "\n",
    "# sns.set_context(rc={\"font.sans-serif\": \"Verdana\",    \n",
    "#                     # Changes to title\n",
    "#                     \"axes.titlesize\":\"20\",           \n",
    "#                     \"axes.titleweight\":\"bold\",       \n",
    "#                     # Changes to x and y labels\n",
    "#                     \"axes.labelsize\":\"16\", \n",
    "#                     \"xtick.labelsize\":\"12\",        \n",
    "#                     \"ytick.labelsize\":\"12\"})                     \n",
    "                              \n",
    "\n",
    "# #create array - repeat gray, orange, grey\n",
    "# my_cmap = (['gray'] * 9) + ['orange'] + (['gray'] * 40)       \n",
    "    \n",
    "# Plot \n",
    "# -------------------------\n",
    "sns.barplot(x = d_covid['state'],                                              \n",
    "            y = d_covid['total_cases'])                                                                                \n",
    "\n",
    "# Additional Customizations\n",
    "# -------------------------  \n",
    "\n",
    "# labels\n",
    "# ax.set_title('')                                    \n",
    "# ax.set_ylabel('')\n",
    "# ax.set_xlabel('')                              \n",
    "\n",
    "# # add commas to numerical axis\n",
    "# ax.get_xaxis().set_major_formatter(mpl.ticker.FuncFormatter(lambda x, p: format(int(x), ',')))  \n",
    "\n",
    "# # manipulating the grid\n",
    "# ax.xaxis.grid()                                      \n",
    "# ax.xaxis.set_major_locator(MultipleLocator(200000))               \n",
    "\n",
    "# # remove spines (lines that create the plot's bounding box)\n",
    "# sns.despine(top=True, right=True, left=True, bottom=True)   \n",
    "\n",
    "# plt.savefig()                                                 \n",
    " \n"
   ]
  },
  {
   "cell_type": "markdown",
   "metadata": {},
   "source": [
    "# Sources"
   ]
  },
  {
   "cell_type": "markdown",
   "metadata": {},
   "source": [
    "\n",
    "* https://www.datacamp.com/community/tutorials/matplotlib-tutorial-python \n",
    "* https://www.machinelearningplus.com/plots/matplotlib-tutorial-complete-guide-python-plot-examples/`\n",
    "* https://towardsdatascience.com/simple-ways-to-improve-your-matplotlib-b64eebccfd5\n",
    "* https://seaborn.pydata.org/tutorial/aesthetics.html"
   ]
  }
 ],
 "metadata": {
  "kernelspec": {
   "display_name": "Python 3",
   "language": "python",
   "name": "python3"
  },
  "language_info": {
   "codemirror_mode": {
    "name": "ipython",
    "version": 3
   },
   "file_extension": ".py",
   "mimetype": "text/x-python",
   "name": "python",
   "nbconvert_exporter": "python",
   "pygments_lexer": "ipython3",
   "version": "3.8.3"
  }
 },
 "nbformat": 4,
 "nbformat_minor": 4
}
